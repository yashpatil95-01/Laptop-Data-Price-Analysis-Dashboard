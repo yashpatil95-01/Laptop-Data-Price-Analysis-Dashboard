{
  "cells": [
    {
      "cell_type": "markdown",
      "metadata": {},
      "source": [
        "# Laptop Pricing Analysis\n",
        "\n",
        "This notebook explores the pricing of laptops using data cleaning, feature engineering, and visualization.\n",
        "\n",
        "Steps:\n",
        "- Load and clean data\n",
        "- Feature extraction\n",
        "- Data visualization\n",
        "- Correlation analysis"
      ]
    },
    {
      "cell_type": "code",
      "execution_count": null,
      "metadata": {},
      "outputs": [],
      "source": [
        "import pandas as pd\n",
        "import matplotlib.pyplot as plt\n",
        "import seaborn as sns\n",
        "import os"
      ]
    }
  ],
  "metadata": {
    "language_info": {
      "name": "python"
    }
  },
  "nbformat": 4,
  "nbformat_minor": 5
}
