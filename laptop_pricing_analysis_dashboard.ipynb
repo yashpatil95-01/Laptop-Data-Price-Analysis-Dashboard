{
  "cells": [...],
  "metadata": {...},
  "nbformat": 4,
  "nbformat_minor": 5
}

{
 "cells": [
  {
   "cell_type": "code",
   "execution_count": null,
   "id": "05d22d82",
   "metadata": {},
   "outputs": [],
   "source": [
    "{\n",
    " \"cells\": [\n",
    "  {\n",
    "   \"cell_type\": \"markdown\",\n",
    "   \"id\": \"intro\",\n",
    "   \"metadata\": {},\n",
    "   \"source\": [\n",
    "    \"# Laptop Pricing Analysis\\n\",\n",
    "    \"\\n\",\n",
    "    \"This notebook explores the pricing of laptops using data cleaning, feature engineering, and visualization.\\n\",\n",
    "    \"\\n\",\n",
    "    \"Steps:\\n\",\n",
    "    \"- Load and clean data\\n\",\n",
    "    \"- Feature extraction\\n\",\n",
    "    \"- Data visualization\\n\",\n",
    "    \"- Correlation analysis\"\n",
    "   ]\n",
    "  },\n",
    "  {\n",
    "   \"cell_type\": \"code\",\n",
    "   \"execution_count\": null,\n",
    "   \"id\": \"import-libs\",\n",
    "   \"metadata\": {},\n",
    "   \"outputs\": [],\n",
    "   \"source\": [\n",
    "    \"import pandas as pd\\n\",\n",
    "    \"import matplotlib.pyplot as plt\\n\",\n",
    "    \"import seaborn as sns\\n\",\n",
    "    \"import os\"\n",
    "   ]\n",
    "  },\n",
    "  {\n",
    "   \"cell_type\": \"markdown\",\n",
    "   \"id\": \"load-data\",\n",
    "   \"metadata\": {},\n",
    "   \"\n"
   ]
  }
 ],
 "metadata": {
  "language_info": {
   "name": "python"
  }
 },
 "nbformat": 4,
 "nbformat_minor": 5
}
