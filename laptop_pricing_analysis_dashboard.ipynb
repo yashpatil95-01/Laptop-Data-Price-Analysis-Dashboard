{
 "cells": [
  {
   "cell_type": "code",
   "execution_count": null,
   "id": "imports-and-load",
   "metadata": {},
   "outputs": [],
   "source": [
    "import numpy as np\n",
    "import pandas as pd\n",
    "import matplotlib.pyplot as plt\n",
    "import seaborn as sns\n",
    "from scipy import stats\n"
   ]
  },
  {
   "cell_type": "code",
   "execution_count": null,
   "id": "load-data",
   "metadata": {},
   "outputs": [],
   "source": [
    "# Load data\n",
    "url = \"https://cf-courses-data.s3.us.cloud-object-storage.appdomain.cloud/IBMDeveloperSkillsNetwork-DA0101EN-Coursera/laptop_pricing_dataset_mod2.csv\"\n",
    "df = pd.read_csv(url)\n",
    "\n",
    "# Remove extra unnamed index columns\n",
    "df.drop(columns=['Unnamed: 0.1', 'Unnamed: 0'], inplace=True)\n"
   ]
  },
  {
   "cell_type": "code",
   "execution_count": null,
   "id": "map-categorical",
   "metadata": {},
   "outputs": [],
   "source": [
    "# Map numerical categories to human-readable strings\n",
    "gpu_mapping = {\n",
    "    1: \"GTX 1050\",\n",
    "    2: \"RTX 3070\",\n",
    "    3: \"RTX 4080\"\n",
    "}\n",
    "os_mapping = {\n",
    "    1: \"Windows\",\n",
    "    2: \"Linux\"\n",
    "}\n",
    "category_mapping = {\n",
    "    1: \"Gaming\",\n",
    "    2: \"Business\",\n",
    "    3: \"Ultrabook\",\n",
    "    4: \"Workstation\",\n",
    "    5: \"Convertible\"\n",
    "}\n",
    "\n",
    "df['GPU'] = df['GPU'].replace(gpu_mapping)\n",
    "df['OS'] = df['OS'].replace(os_mapping)\n",
    "df['Category'] = df['Category'].replace(category_mapping)\n"
   ]
  },
  {
   "cell_type": "code",
   "execution_count": null,
   "id": "print-checks",
   "metadata": {},
   "outputs": [],
   "source": [
    "# Quick data check\n",
    "print(\"Category values:\", df['Category'].unique())\n",
    "print(\"GPU values:\", df['GPU'].unique())\n",
    "print(\"OS values:\", df['OS'].unique())\n",
    "print(\"\\n--------------------------------------------------------------------------------DataFrame head-------------------------------------------------------------------------\")\n",
    "print(df.head())"
   ]
  },
  {
   "cell_type": "code",
   "execution_count": null,
   "id": "set-style-summary",
   "metadata": {},
   "outputs": [],
   "source": [
    "# Set plot style\n",
    "sns.set(style=\"whitegrid\")\n",
    "\n",
    "# === 1. Basic Description ===\n",
    "print(\"\\n--- Numeric Summary ---\")\n",
    "print(df.describe().T)\n",
    "\n",
    "print(\"\\n--- Categorical Summary ---\")\n",
    "print(df.describe(include=['object']).T)\n"
   ]
  },
  {
   "cell_type": "code",
   "execution_count": null,
   "id": "correlation-heatmap",
   "metadata": {},
   "outputs": [],
   "source": [
    "# === 2. Correlation Matrix Heatmap ===\n",
    "plt.figure(figsize=(8, 6))\n",
    "corr = df.select_dtypes(include=[np.number]).corr()\n",
    "\n",
    "sns.heatmap(corr, annot=True, cmap='coolwarm', fmt=\".2f\", square=True)\n",
    "plt.title(\"Correlation Matrix Heatmap\")\n",
    "plt.tight_layout()\n",
    "plt.show()\n"
   ]
  },
  {
   "cell_type": "code",
   "execution_count": null,
   "id": "scatter-plots",
   "metadata": {},
   "outputs": [],
   "source": [
    "# === 3. Scatter plots of numeric features vs Price ===\n",
    "numeric_features = [\"CPU_frequency\", \"Screen_Size_inch\", \"Weight_pounds\"]\n",
    "\n",
    "fig, axes = plt.subplots(1, 3, figsize=(18,5))\n",
    "for ax, feature in zip(axes, numeric_features):\n",
    "    sns.regplot(x=feature, y=\"Price\", data=df, ax=ax)\n",
    "    ax.set_title(f\"{feature} vs Price\")\n",
    "    ax.set_ylim(0,)\n",
    "plt.tight_layout()\n",
    "plt.show()\n"
   ]
  },
  {
   "cell_type": "code",
   "execution_count": null,
   "id": "boxplots",
   "metadata": {},
   "outputs": [],
   "source": [
    "# === 4. Boxplots for categorical/binned features ===\n",
    "categorical_features = [\"Category\", \"GPU\", \"RAM_GB\", \"Storage_GB_SSD\", \"CPU_core\", \"OS\"]\n",
    "\n",
    "fig, axes = plt.subplots(2, 3, figsize=(18,10))\n",
    "axes = axes.flatten()\n",
    "\n",
    "for ax, col in zip(axes, categorical_features):\n",
    "    sns.boxplot(x=col, y=\"Price\", data=df, ax=ax)\n",
    "    ax.set_title(f\"Price Distribution by {col}\")\n",
    "    ax.tick_params(axis='x', rotation=45)\n",
    "plt.tight_layout()\n",
    "plt.show()\n"
   ]
  },
  {
   "cell_type": "code",
   "execution_count": null,
   "id": "grouped-heatmap",
   "metadata": {},
   "outputs": [],
   "source": [
    "# === 5. Grouped Heatmap (GPU x CPU_core) with average price ===\n",
    "grouped = df.groupby(['GPU', 'CPU_core'])['Price'].mean().unstack()\n",
    "\n",
    "plt.figure(figsize=(10,6))\n",
    "sns.heatmap(grouped, annot=True, fmt=\".0f\", cmap=\"RdBu_r\", center=grouped.mean().mean())\n",
    "plt.title(\"Average Price by GPU and CPU Core Count\")\n",
    "plt.ylabel(\"GPU\")\n",
    "plt.xlabel(\"CPU Core Count\")\n",
    "plt.tight_layout()\n",
    "plt.show()\n"
   ]
  },
  {
   "cell_type": "code",
   "execution_count": null,
   "id": "pearson-correlation",
   "metadata": {},
   "outputs": [],
   "source": [
    "# === 6. Pearson Correlations with Price ===\n",
    "print(\"\\n--- Pearson Correlations with Price ---\")\n",
    "for param in numeric_features + categorical_features:\n",
    "    if df[param].dtype == 'object':\n",
    "        encoded = pd.factorize(df[param])[0]\n",
    "        coef, p_val = stats.pearsonr(encoded, df['Price'])\n",
    "    else:\n",
    "        coef, p_val = stats.pearsonr(df[param], df['Price'])\n",
    "    print(f\"{param}: Correlation = {coef:.3f}, p-value = {p_val:.3g}\")\n"
   ]
  }
 ],
 "metadata": {
  "kernelspec": {
   "display_name": "Python 3",
   "language": "python",
   "name": "python3"
  },
  "language_info": {
   "name": "python",
   "version": "3.x"
  }
 },
 "nbformat": 4,
 "nbformat_minor": 5
}
