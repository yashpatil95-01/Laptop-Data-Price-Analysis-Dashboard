{
  "cells": [
    {
      "cell_type": "markdown",
      "metadata": {},
      "source": [
        "# Laptop Pricing Analysis\n",
        "\n",
        "This notebook explores the pricing of laptops using data cleaning, feature engineering, and visualization.\n",
        "\n",
        "Steps included:\n",
        "- Load and clean data\n",
        "- Map categorical codes to meaningful labels\n",
        "- Basic data exploration and summaries\n",
        "- Visualization with correlation heatmaps, scatterplots, boxplots\n",
        "- Grouped heatmap analysis\n",
        "- Pearson correlation analysis"
      ]
    },
    {
      "cell_type": "markdown",
      "metadata": {},
      "source": [
        "## 1. Import libraries"
      ]
    },
    {
      "cell_type": "code",
      "execution_count": null,
      "metadata": {},
      "outputs": [],
      "source": [
        "import numpy as np\n",
        "import pandas as pd\n",
        "import matplotlib.pyplot as plt\n",
        "import seaborn as sns\n",
        "from scipy import stats\n",
        "import os"
      ]
    },
    {
      "cell_type": "markdown",
      "metadata": {},
      "source": [
        "## 2. Load dataset and clean\n",
        "We load the laptop pricing dataset from the URL and remove redundant unnamed columns."
      ]
    },
    {
      "cell_type": "code",
      "execution_count": null,
      "metadata": {},
      "outputs": [],
      "source": [
        "url = \"https://cf-courses-data.s3.us.cloud-object-storage.appdomain.cloud/IBMDeveloperSkillsNetwork-DA0101EN-Coursera/laptop_pricing_dataset_mod2.csv\"\n",
        "df = pd.read_csv(url)\n",
        "df.drop(columns=['Unnamed: 0.1', 'Unnamed: 0'], inplace=True)\n",
        "df.head()"
      ]
    },
    {
      "cell_type": "markdown",
      "metadata": {},
      "source": [
        "## 3. Map numerical categories to human-readable labels\n",
        "This helps make plots and analysis easier to interpret."
      ]
    },
    {
      "cell_type": "code",
      "execution_count": null,
      "metadata": {},
      "outputs": [],
      "source": [
        "gpu_mapping = {1: \"GTX 1050\", 2: \"RTX 3070\", 3: \"RTX 4080\"}\n",
        "os_mapping = {1: \"Windows\", 2: \"Linux\"}\n",
        "category_mapping = {1: \"Gaming\", 2: \"Business\", 3: \"Ultrabook\", 4: \"Workstation\", 5: \"Convertible\"}\n",
        "\n",
        "df['GPU'] = df['GPU'].replace(gpu_mapping)\n",
        "df['OS'] = df['OS'].replace(os_mapping)\n",
        "df['Category'] = df['Category'].replace(category_mapping)\n",
        "\n",
        "df[['Category', 'GPU', 'OS']].head()"
      ]
    },
    {
      "cell_type": "markdown",
      "metadata": {},
      "source": [
        "## 4. Data Summary\n",
        "Numeric and categorical summaries provide an overview of dataset characteristics."
      ]
    },
    {
      "cell_type": "code",
      "execution_count": null,
      "metadata": {},
      "outputs": [],
      "source": [
        "print(\"--- Numeric Summary ---\")\n",
        "print(df.describe().T)\n",
        "\n",
        "print(\"\\n--- Categorical Summary ---\")\n",
        "print(df.describe(include=['object']).T)"
      ]
    },
    {
      "cell_type": "markdown",
      "metadata": {},
      "source": [
        "## 5. Correlation Matrix Heatmap\n",
        "Visualize correlations among numeric features."
      ]
    },
    {
      "cell_type": "code",
      "execution_count": null,
      "metadata": {},
      "outputs": [],
      "source": [
        "plt.figure(figsize=(8,6))\n",
        "corr = df.select_dtypes(include=[np.number]).corr()\n",
        "sns.heatmap(corr, annot=True, cmap='coolwarm', fmt='.2f', square=True)\n",
        "plt.title('Correlation Matrix Heatmap')\n",
        "plt.tight_layout()\n",
        "plt.show()"
      ]
    },
    {
      "cell_type": "markdown",
      "metadata": {},
      "source": [
        "## 6. Scatter Plots: Numeric features vs Price\n",
        "Exploring linear relationships between some key numeric features and Price."
      ]
    },
    {
      "cell_type": "code",
      "execution_count": null,
      "metadata": {},
      "outputs": [],
      "source": [
        "numeric_features = [\"CPU_frequency\", \"Screen_Size_inch\", \"Weight_pounds\"]\n",
        "fig, axes = plt.subplots(1, 3, figsize=(18,5))\n",
        "for ax, feature in zip(axes, numeric_features):\n",
        "    sns.regplot(x=feature, y=\"Price\", data=df, ax=ax)\n",
        "    ax.set_title(f\"{feature} vs Price\")\n",
        "    ax.set_ylim(0,)\n",
        "plt.tight_layout()\n",
        "plt.show()"
      ]
    },
    {
      "cell_type": "markdown",
      "metadata": {},
      "source": [
        "## 7. Boxplots for categorical features\n",
        "Price distribution across different categories like GPU, OS, RAM, etc."
      ]
    },
    {
      "cell_type": "code",
      "execution_count": null,
      "metadata": {},
      "outputs": [],
      "source": [
        "categorical_features = [\"Category\", \"GPU\", \"RAM_GB\", \"Storage_GB_SSD\", \"CPU_core\", \"OS\"]\n",
        "fig, axes = plt.subplots(2, 3, figsize=(18,10))\n",
        "axes = axes.flatten()\n",
        "for ax, col in zip(axes, categorical_features):\n",
        "    sns.boxplot(x=col, y=\"Price\", data=df, ax=ax)\n",
        "    ax.set_title(f\"Price Distribution by {col}\")\n",
        "    ax.tick_params(axis='x', rotation=45)\n",
        "plt.tight_layout()\n",
        "plt.show()"
      ]
    },
    {
      "cell_type": "markdown",
      "metadata": {},
      "source": [
        "## 8. Grouped Heatmap: Average Price by GPU and CPU Core Count"
      ]
    },
    {
      "cell_type": "code",
      "execution_count": null,
      "metadata": {},
      "outputs": [],
      "source": [
        "grouped = df.groupby(['GPU', 'CPU_core'])['Price'].mean().unstack()\n",
        "plt.figure(figsize=(10,6))\n",
        "sns.heatmap(grouped, annot=True, fmt='.0f', cmap='RdBu_r', center=grouped.mean().mean())\n",
        "plt.title('Average Price by GPU and CPU Core Count')\n",
        "plt.ylabel('GPU')\n",
        "plt.xlabel('CPU Core Count')\n",
        "plt.tight_layout()\n",
        "plt.show()"
      ]
    },
    {
      "cell_type": "markdown",
      "metadata": {},
      "source": [
        "## 9. Pearson Correlations with Price\n",
        "Calculating Pearson correlation coefficients between Price and other features."
      ]
    },
    {
      "cell_type": "code",
      "execution_count": null,
      "metadata": {},
      "outputs": [],
      "source": [
        "print(\"--- Pearson Correlations with Price ---\")\n",
        "for param in numeric_features + categorical_features:\n",
        "    if df[param].dtype == 'object':\n",
        "        encoded = pd.factorize(df[param])[0]\n",
        "        coef, p_val = stats.pearsonr(encoded, df['Price'])\n",
        "    else:\n",
        "        coef, p_val = stats.pearsonr(df[param], df['Price'])\n",
        "    print(f\"{param}: Correlation = {coef:.3f}, p-value = {p_val:.3g}\")"
      ]
    }
  ],
  "metadata": {
    "kernelspec": {
      "display_name": "Python 3",
      "language": "python",
      "name": "python3"
    },
    "language_info": {
      "file_extension": ".py",
      "mimetype": "text/x-python",
      "name": "python",
      "pygments_lexer": "ipython3",
      "version": "3.10.11"
    }
  },
  "nbformat": 4,
  "nbformat_minor": 5
}
