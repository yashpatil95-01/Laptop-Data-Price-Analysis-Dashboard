{
 "cells": [
  {
   "cell_type": "markdown",
   "id": "47d77a9c",
   "metadata": {},
   "source": [
    "# Laptop Pricing Analysis Dashboard\n",
    "\n",
    "This notebook performs comprehensive analysis of laptop pricing data including:\n",
    "- Data cleaning and preprocessing\n",
    "- Correlation analysis with detailed interpretations\n",
    "- Visualization of price relationships\n",
    "- Statistical analysis with practical insights\n",
    "\n",
    "**Author:** Yash Patil"
   ]
  },
  {
   "cell_type": "markdown",
   "id": "7b7c3fcd",
   "metadata": {},
   "source": [
    "## 1. Import Libraries"
   ]
  },
  {
   "cell_type": "code",
   "execution_count": null,
   "id": "a8183b5b",
   "metadata": {},
   "outputs": [],
   "source": [
    "import numpy as np\n",
    "import pandas as pd\n",
    "import matplotlib.pyplot as plt\n",
    "import seaborn as sns\n",
    "from scipy import stats\n",
    "import os\n",
    "\n",
    "# Set plot style\n",
    "sns.set(style=\"whitegrid\")\n",
    "\n",
    "# Create results directory\n",
    "save_dir = \"results\"\n",
    "os.makedirs(save_dir, exist_ok=True)"
   ]
  },
  {
   "cell_type": "markdown",
   "id": "b37e1708",
   "metadata": {},
   "source": [
    "## 2. Load Dataset and Clean\n",
    "We load the laptop pricing dataset from the URL and remove redundant unnamed columns."
   ]
  },
  {
   "cell_type": "code",
   "execution_count": null,
   "id": "553e11ef",
   "metadata": {},
   "outputs": [],
   "source": [
    "def load_and_clean_data():\n",
    "    \"\"\"Load and clean the laptop pricing dataset.\"\"\"\n",
    "    url = \"https://cf-courses-data.s3.us.cloud-object-storage.appdomain.cloud/IBMDeveloperSkillsNetwork-DA0101EN-Coursera/laptop_pricing_dataset_mod2.csv\"\n",
    "    df = pd.read_csv(url)\n",
    "    return df\n",
    "\n",
    "# Load data\n",
    "df = load_and_clean_data()\n",
    "\n",
    "# Remove extra unnamed index columns\n",
    "df.drop(columns=['Unnamed: 0.1', 'Unnamed: 0'], inplace=True)\n",
    "\n",
    "# Display DataFrame info\n",
    "print(\"--- Initial DataFrame Info ---\")\n",
    "df.info()\n",
    "print(\"\\nDataFrame shape:\", df.shape)\n",
    "df.head()"
   ]
  },
  {
   "cell_type": "markdown",
   "id": "75b0a0f5",
   "metadata": {},
   "source": [
    "## 3. Map Numerical Categories to Human-Readable Labels\n",
    "This helps make plots and analysis easier to interpret."
   ]
  },
  {
   "cell_type": "code",
   "execution_count": null,
   "id": "7d617a1f",
   "metadata": {},
   "outputs": [],
   "source": [
    "# Map numerical values to human-readable strings\n",
    "gpu_mapping = {1: \"GTX 1050\", 2: \"RTX 3070\", 3: \"RTX 4080\"}\n",
    "os_mapping = {1: \"Windows\", 2: \"Linux\"}\n",
    "category_mapping = {1: \"Gaming\", 2: \"Business\", 3: \"Ultrabook\", 4: \"Workstation\", 5: \"Convertible\"}\n",
    "\n",
    "df['GPU'] = df['GPU'].replace(gpu_mapping)\n",
    "df['OS'] = df['OS'].replace(os_mapping)\n",
    "df['Category'] = df['Category'].replace(category_mapping)\n",
    "\n",
    "# Quick data check\n",
    "print(\"Category values:\", df['Category'].unique())\n",
    "print(\"GPU values:\", df['GPU'].unique())\n",
    "print(\"OS values:\", df['OS'].unique())\n",
    "\n",
    "df[['Category', 'GPU', 'OS']].head()"
   ]
  },
  {
   "cell_type": "markdown",
   "id": "79173599",
   "metadata": {},
   "source": [
    "## 4. Data Summary\n",
    "Numeric and categorical summaries provide an overview of dataset characteristics."
   ]
  },
  {
   "cell_type": "code",
   "execution_count": null,
   "id": "1c0d1d41",
   "metadata": {},
   "outputs": [],
   "source": [
    "print(\"--- Numeric Summary ---\")\n",
    "print(df.describe().T)\n",
    "\n",
    "print(\"\\n--- Categorical Summary ---\")\n",
    "print(df.describe(include=['object']).T)"
   ]
  },
  {
   "cell_type": "markdown",
   "id": "24010e69",
   "metadata": {},
   "source": [
    "## 5. Correlation Matrix Heatmap\n",
    "Visualize correlations among numeric features."
   ]
  },
  {
   "cell_type": "code",
   "execution_count": null,
   "id": "87474134",
   "metadata": {},
   "outputs": [],
   "source": [
    "plt.figure(figsize=(8, 6))\n",
    "corr = df.select_dtypes(include=[np.number]).corr()\n",
    "\n",
    "sns.heatmap(corr, annot=True, cmap='coolwarm', fmt=\".2f\", square=True)\n",
    "plt.title(\"Correlation Matrix Heatmap\")\n",
    "\n",
    "plt.savefig(os.path.join(save_dir, \"correlation_matrix.png\"), dpi=300, bbox_inches='tight')\n",
    "plt.tight_layout()\n",
    "plt.show()"
   ]
  },
  {
   "cell_type": "markdown",
   "id": "scatter_plots",
   "metadata": {},
   "source": [
    "## 6. Scatter Plots of Numeric Features vs Price\n",
    "Examine relationships between continuous variables and laptop price."
   ]
  },
  {
   "cell_type": "code",
   "execution_count": null,
   "id": "scatter_code",
   "metadata": {},
   "outputs": [],
   "source": [
    "numeric_features = [\"CPU_frequency\", \"Screen_Size_inch\", \"Weight_pounds\"]\n",
    "\n",
    "fig, axes = plt.subplots(1, 3, figsize=(18,5))\n",
    "for ax, feature in zip(axes, numeric_features):\n",
    "    sns.regplot(x=feature, y=\"Price\", data=df, ax=ax)\n",
    "    ax.set_title(f\"{feature} vs Price\")\n",
    "    ax.set_ylim(0,)\n",
    "plt.tight_layout()\n",
    "plt.savefig(os.path.join(save_dir, \"scatter_plots.png\"), dpi=300, bbox_inches='tight')\n",
    "plt.show()"
   ]
  },
  {
   "cell_type": "markdown",
   "id": "boxplots",
   "metadata": {},
   "source": [
    "## 7. Boxplots for Categorical Features\n",
    "Analyze price distribution across different categorical variables."
   ]
  },
  {
   "cell_type": "code",
   "execution_count": null,
   "id": "boxplot_code",
   "metadata": {},
   "outputs": [],
   "source": [
    "categorical_features = [\"Category\", \"GPU\", \"RAM_GB\", \"Storage_GB_SSD\", \"CPU_core\", \"OS\"]\n",
    "\n",
    "fig, axes = plt.subplots(2, 3, figsize=(18,10))\n",
    "axes = axes.flatten()\n",
    "\n",
    "for ax, col in zip(axes, categorical_features):\n",
    "    sns.boxplot(x=col, y=\"Price\", data=df, ax=ax)\n",
    "    ax.set_title(f\"Price Distribution by {col}\")\n",
    "    ax.tick_params(axis='x', rotation=45)\n",
    "plt.tight_layout()\n",
    "plt.savefig(os.path.join(save_dir, \"boxplots.png\"), dpi=300, bbox_inches='tight')\n",
    "plt.show()"
   ]
  },
  {
   "cell_type": "markdown",
   "id": "grouped_heatmap",
   "metadata": {},
   "source": [
    "## 8. Grouped Heatmap Analysis\n",
    "Average price by GPU and CPU core count combination."
   ]
  },
  {
   "cell_type": "code",
   "execution_count": null,
   "id": "heatmap_code",
   "metadata": {},
   "outputs": [],
   "source": [
    "grouped = df.groupby(['GPU', 'CPU_core'])['Price'].mean().unstack()\n",
    "\n",
    "plt.figure(figsize=(10,6))\n",
    "sns.heatmap(grouped, annot=True, fmt=\".0f\", cmap=\"RdBu_r\", center=grouped.mean().mean())\n",
    "plt.title(\"Average Price by GPU and CPU Core Count\")\n",
    "plt.ylabel(\"GPU\")\n",
    "plt.xlabel(\"CPU Core Count\")\n",
    "plt.tight_layout()\n",
    "plt.savefig(os.path.join(save_dir, \"grouped_heatmap.png\"), dpi=300, bbox_inches='tight')\n",
    "plt.show()"
   ]
  },
  {
   "cell_type": "markdown",
   "id": "correlation_analysis",
   "metadata": {},
   "source": [
    "## 9. Enhanced Pearson Correlation Analysis\n",
    "Detailed correlation analysis with strength interpretation and statistical significance."
   ]
  },
  {
   "cell_type": "code",
   "execution_count": null,
   "id": "correlation_functions",
   "metadata": {},
   "outputs": [],
   "source": [
    "def interpret_correlation(coef):\n",
    "    \"\"\"Interpret correlation coefficient strength and direction.\"\"\"\n",
    "    abs_coef = abs(coef)\n",
    "    direction = \"Positive\" if coef > 0 else \"Negative\"\n",
    "    \n",
    "    if abs_coef >= 0.7:\n",
    "        strength = \"Strong\"\n",
    "    elif abs_coef >= 0.5:\n",
    "        strength = \"Moderate\"\n",
    "    elif abs_coef >= 0.3:\n",
    "        strength = \"Weak\"\n",
    "    else:\n",
    "        strength = \"Very Weak\"\n",
    "    \n",
    "    return f\"{direction} {strength}\"\n",
    "\n",
    "def interpret_p_value(p_val):\n",
    "    \"\"\"Interpret statistical significance.\"\"\"\n",
    "    if p_val < 0.001:\n",
    "        return \"Highly Significant (***)\"\n",
    "    elif p_val < 0.01:\n",
    "        return \"Very Significant (**)\"\n",
    "    elif p_val < 0.05:\n",
    "        return \"Significant (*)\"\n",
    "    else:\n",
    "        return \"Not Significant\""
   ]
  },
  {
   "cell_type": "code",
   "execution_count": null,
   "id": "correlation_analysis_code",
   "metadata": {},
   "outputs": [],
   "source": [
    "print(\"\\n\" + \"=\"*80)\n",
    "print(\"PEARSON CORRELATIONS WITH LAPTOP PRICE - DETAILED ANALYSIS\")\n",
    "print(\"=\"*80)\n",
    "\n",
    "# Store correlation results for visualization\n",
    "correlation_results = []\n",
    "\n",
    "all_features = numeric_features + categorical_features\n",
    "for param in all_features:\n",
    "    # For categorical variables, encode to numeric for correlation calculation\n",
    "    if df[param].dtype == 'object':\n",
    "        encoded = pd.factorize(df[param])[0]\n",
    "        coef, p_val = stats.pearsonr(encoded, df['Price'])\n",
    "        feature_type = \"Categorical\"\n",
    "    else:\n",
    "        coef, p_val = stats.pearsonr(df[param], df['Price'])\n",
    "        feature_type = \"Numeric\"\n",
    "    \n",
    "    # Store results\n",
    "    correlation_results.append({\n",
    "        'Feature': param,\n",
    "        'Type': feature_type,\n",
    "        'Correlation': coef,\n",
    "        'P-value': p_val,\n",
    "        'Interpretation': interpret_correlation(coef),\n",
    "        'Significance': interpret_p_value(p_val)\n",
    "    })\n",
    "    \n",
    "    # Print detailed interpretation\n",
    "    print(f\"\\n📊 {param.upper()} ({feature_type})\")\n",
    "    print(f\"   Correlation: {coef:.3f}\")\n",
    "    print(f\"   Relationship: {interpret_correlation(coef)}\")\n",
    "    print(f\"   Statistical Significance: {interpret_p_value(p_val)} (p = {p_val:.3g})\")\n",
    "    \n",
    "    # Add practical interpretation\n",
    "    if abs(coef) >= 0.3 and p_val < 0.05:\n",
    "        if coef > 0:\n",
    "            print(f\"   💡 Insight: Higher {param} tends to be associated with HIGHER laptop prices\")\n",
    "        else:\n",
    "            print(f\"   💡 Insight: Higher {param} tends to be associated with LOWER laptop prices\")\n",
    "    else:\n",
    "        print(f\"   💡 Insight: {param} shows little to no reliable relationship with laptop prices\")\n",
    "\n",
    "# Create correlation results DataFrame for better visualization\n",
    "corr_df = pd.DataFrame(correlation_results)\n",
    "corr_df = corr_df.sort_values('Correlation', key=abs, ascending=False)\n",
    "\n",
    "print(\"\\n\" + \"=\"*80)\n",
    "print(\"SUMMARY: FEATURES RANKED BY CORRELATION STRENGTH\")\n",
    "print(\"=\"*80)\n",
    "print(corr_df[['Feature', 'Correlation', 'Interpretation', 'Significance']].to_string(index=False))"
   ]
  },
  {
   "cell_type": "markdown",
   "id": "correlation_viz",
   "metadata": {},
   "source": [
    "## 10. Correlation Visualization\n",
    "Visual representation of feature correlations with price, ranked by strength."
   ]
  },
  {
   "cell_type": "code",
   "execution_count": null,
   "id": "correlation_viz_code",
   "metadata": {},
   "outputs": [],
   "source": [
    "plt.figure(figsize=(12, 8))\n",
    "colors = ['red' if corr < 0 else 'blue' for corr in corr_df['Correlation']]\n",
    "bars = plt.barh(range(len(corr_df)), corr_df['Correlation'], color=colors, alpha=0.7)\n",
    "\n",
    "# Add correlation values on bars\n",
    "for i, (bar, corr) in enumerate(zip(bars, corr_df['Correlation'])):\n",
    "    plt.text(corr + (0.02 if corr > 0 else -0.02), i, f'{corr:.3f}', \n",
    "             va='center', ha='left' if corr > 0 else 'right', fontweight='bold')\n",
    "\n",
    "plt.yticks(range(len(corr_df)), corr_df['Feature'])\n",
    "plt.xlabel('Correlation with Price')\n",
    "plt.title('Feature Correlations with Laptop Price\\n(Blue = Positive, Red = Negative)')\n",
    "plt.axvline(x=0, color='black', linestyle='-', alpha=0.3)\n",
    "plt.axvline(x=0.3, color='green', linestyle='--', alpha=0.5, label='Weak threshold (±0.3)')\n",
    "plt.axvline(x=-0.3, color='green', linestyle='--', alpha=0.5)\n",
    "plt.axvline(x=0.5, color='orange', linestyle='--', alpha=0.5, label='Moderate threshold (±0.5)')\n",
    "plt.axvline(x=-0.5, color='orange', linestyle='--', alpha=0.5)\n",
    "plt.axvline(x=0.7, color='red', linestyle='--', alpha=0.5, label='Strong threshold (±0.7)')\n",
    "plt.axvline(x=-0.7, color='red', linestyle='--', alpha=0.5)\n",
    "plt.legend()\n",
    "plt.grid(True, alpha=0.3)\n",
    "plt.tight_layout()\n",
    "plt.savefig(os.path.join(save_dir, \"correlation_analysis.png\"), dpi=300, bbox_inches='tight')\n",
    "plt.show()"
   ]
  },
  {
   "cell_type": "markdown",
   "id": "key_insights",
   "metadata": {},
   "source": [
    "## 11. Key Insights Summary\n",
    "\n",
    "Based on the correlation analysis, here are the key findings:\n",
    "\n",
    "### Strong Price Predictors:\n",
    "- **RAM_GB**: Moderate positive correlation (0.549) - More RAM significantly increases laptop price\n",
    "- **CPU_core**: Weak positive correlation (0.459) - More CPU cores tend to increase price\n",
    "- **CPU_frequency**: Weak positive correlation (0.367) - Higher CPU frequency increases price\n",
    "\n",
    "### Weak or No Relationship:\n",
    "- **Screen_Size_inch**: Very weak negative correlation (-0.111) - Screen size doesn't strongly affect price\n",
    "- **Weight_pounds**: Very weak negative correlation (-0.050) - Weight has minimal impact on price\n",
    "- **GPU**: Very weak positive correlation (0.084) - Surprisingly, GPU type shows weak correlation\n",
    "\n",
    "### Business Implications:\n",
    "1. **RAM is the strongest price driver** - Upgrading RAM has the most significant impact on laptop pricing\n",
    "2. **CPU specifications matter** - Both core count and frequency contribute to higher prices\n",
    "3. **Form factor flexibility** - Screen size and weight don't strongly dictate price, allowing for design flexibility\n",
    "4. **GPU pricing complexity** - The weak GPU correlation suggests other factors may influence GPU-related pricing\n",
    "\n",
    "All visualizations have been saved to the `results/` directory for further analysis and presentation."
   ]
  }
 ],
 "metadata": {
  "kernelspec": {
   "display_name": "Python 3",
   "language": "python",
   "name": "python3"
  },
  "language_info": {
   "codemirror_mode": {
    "name": "ipython",
    "version": 3
   },
   "file_extension": ".py",
   "mimetype": "text/x-python",
   "name": "python",
   "nbconvert_exporter": "python",
   "pygments_lexer": "ipython3",
   "version": "3.8.5"
  }
 },
 "nbformat": 4,
 "nbformat_minor": 5
}